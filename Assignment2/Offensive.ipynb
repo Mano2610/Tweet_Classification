{
  "nbformat": 4,
  "nbformat_minor": 0,
  "metadata": {
    "colab": {
      "name": "Offensive.ipynb",
      "provenance": [],
      "collapsed_sections": [],
      "authorship_tag": "ABX9TyOoGcxg/QDl/wtdH08nZ8up",
      "include_colab_link": true
    },
    "kernelspec": {
      "name": "python3",
      "display_name": "Python 3"
    },
    "language_info": {
      "name": "python"
    },
    "widgets": {
      "application/vnd.jupyter.widget-state+json": {
        "38c17dfef594456eac25fdf719b5bfa6": {
          "model_module": "@jupyter-widgets/controls",
          "model_name": "HBoxModel",
          "state": {
            "_view_name": "HBoxView",
            "_dom_classes": [],
            "_model_name": "HBoxModel",
            "_view_module": "@jupyter-widgets/controls",
            "_model_module_version": "1.5.0",
            "_view_count": null,
            "_view_module_version": "1.5.0",
            "box_style": "",
            "layout": "IPY_MODEL_5d960a06b72b4d1ba37d7ca8fec112df",
            "_model_module": "@jupyter-widgets/controls",
            "children": [
              "IPY_MODEL_37745b3c15ba409a947ec9479f2e4c37",
              "IPY_MODEL_975b5927c12a4a9294dab06c30210a29"
            ]
          }
        },
        "5d960a06b72b4d1ba37d7ca8fec112df": {
          "model_module": "@jupyter-widgets/base",
          "model_name": "LayoutModel",
          "state": {
            "_view_name": "LayoutView",
            "grid_template_rows": null,
            "right": null,
            "justify_content": null,
            "_view_module": "@jupyter-widgets/base",
            "overflow": null,
            "_model_module_version": "1.2.0",
            "_view_count": null,
            "flex_flow": null,
            "width": null,
            "min_width": null,
            "border": null,
            "align_items": null,
            "bottom": null,
            "_model_module": "@jupyter-widgets/base",
            "top": null,
            "grid_column": null,
            "overflow_y": null,
            "overflow_x": null,
            "grid_auto_flow": null,
            "grid_area": null,
            "grid_template_columns": null,
            "flex": null,
            "_model_name": "LayoutModel",
            "justify_items": null,
            "grid_row": null,
            "max_height": null,
            "align_content": null,
            "visibility": null,
            "align_self": null,
            "height": null,
            "min_height": null,
            "padding": null,
            "grid_auto_rows": null,
            "grid_gap": null,
            "max_width": null,
            "order": null,
            "_view_module_version": "1.2.0",
            "grid_template_areas": null,
            "object_position": null,
            "object_fit": null,
            "grid_auto_columns": null,
            "margin": null,
            "display": null,
            "left": null
          }
        },
        "37745b3c15ba409a947ec9479f2e4c37": {
          "model_module": "@jupyter-widgets/controls",
          "model_name": "FloatProgressModel",
          "state": {
            "_view_name": "ProgressView",
            "style": "IPY_MODEL_4bf230c414eb48b2a86c780e997efd6e",
            "_dom_classes": [],
            "description": "Downloading: 100%",
            "_model_name": "FloatProgressModel",
            "bar_style": "success",
            "max": 760,
            "_view_module": "@jupyter-widgets/controls",
            "_model_module_version": "1.5.0",
            "value": 760,
            "_view_count": null,
            "_view_module_version": "1.5.0",
            "orientation": "horizontal",
            "min": 0,
            "description_tooltip": null,
            "_model_module": "@jupyter-widgets/controls",
            "layout": "IPY_MODEL_9aa9c5e226e64db4bcab5d59e430a2bc"
          }
        },
        "975b5927c12a4a9294dab06c30210a29": {
          "model_module": "@jupyter-widgets/controls",
          "model_name": "HTMLModel",
          "state": {
            "_view_name": "HTMLView",
            "style": "IPY_MODEL_12db37db61594872aae95dedc67163f0",
            "_dom_classes": [],
            "description": "",
            "_model_name": "HTMLModel",
            "placeholder": "​",
            "_view_module": "@jupyter-widgets/controls",
            "_model_module_version": "1.5.0",
            "value": " 760/760 [00:00&lt;00:00, 833B/s]",
            "_view_count": null,
            "_view_module_version": "1.5.0",
            "description_tooltip": null,
            "_model_module": "@jupyter-widgets/controls",
            "layout": "IPY_MODEL_84bce55b3d784e9482f3818ff01e8015"
          }
        },
        "4bf230c414eb48b2a86c780e997efd6e": {
          "model_module": "@jupyter-widgets/controls",
          "model_name": "ProgressStyleModel",
          "state": {
            "_view_name": "StyleView",
            "_model_name": "ProgressStyleModel",
            "description_width": "initial",
            "_view_module": "@jupyter-widgets/base",
            "_model_module_version": "1.5.0",
            "_view_count": null,
            "_view_module_version": "1.2.0",
            "bar_color": null,
            "_model_module": "@jupyter-widgets/controls"
          }
        },
        "9aa9c5e226e64db4bcab5d59e430a2bc": {
          "model_module": "@jupyter-widgets/base",
          "model_name": "LayoutModel",
          "state": {
            "_view_name": "LayoutView",
            "grid_template_rows": null,
            "right": null,
            "justify_content": null,
            "_view_module": "@jupyter-widgets/base",
            "overflow": null,
            "_model_module_version": "1.2.0",
            "_view_count": null,
            "flex_flow": null,
            "width": null,
            "min_width": null,
            "border": null,
            "align_items": null,
            "bottom": null,
            "_model_module": "@jupyter-widgets/base",
            "top": null,
            "grid_column": null,
            "overflow_y": null,
            "overflow_x": null,
            "grid_auto_flow": null,
            "grid_area": null,
            "grid_template_columns": null,
            "flex": null,
            "_model_name": "LayoutModel",
            "justify_items": null,
            "grid_row": null,
            "max_height": null,
            "align_content": null,
            "visibility": null,
            "align_self": null,
            "height": null,
            "min_height": null,
            "padding": null,
            "grid_auto_rows": null,
            "grid_gap": null,
            "max_width": null,
            "order": null,
            "_view_module_version": "1.2.0",
            "grid_template_areas": null,
            "object_position": null,
            "object_fit": null,
            "grid_auto_columns": null,
            "margin": null,
            "display": null,
            "left": null
          }
        },
        "12db37db61594872aae95dedc67163f0": {
          "model_module": "@jupyter-widgets/controls",
          "model_name": "DescriptionStyleModel",
          "state": {
            "_view_name": "StyleView",
            "_model_name": "DescriptionStyleModel",
            "description_width": "",
            "_view_module": "@jupyter-widgets/base",
            "_model_module_version": "1.5.0",
            "_view_count": null,
            "_view_module_version": "1.2.0",
            "_model_module": "@jupyter-widgets/controls"
          }
        },
        "84bce55b3d784e9482f3818ff01e8015": {
          "model_module": "@jupyter-widgets/base",
          "model_name": "LayoutModel",
          "state": {
            "_view_name": "LayoutView",
            "grid_template_rows": null,
            "right": null,
            "justify_content": null,
            "_view_module": "@jupyter-widgets/base",
            "overflow": null,
            "_model_module_version": "1.2.0",
            "_view_count": null,
            "flex_flow": null,
            "width": null,
            "min_width": null,
            "border": null,
            "align_items": null,
            "bottom": null,
            "_model_module": "@jupyter-widgets/base",
            "top": null,
            "grid_column": null,
            "overflow_y": null,
            "overflow_x": null,
            "grid_auto_flow": null,
            "grid_area": null,
            "grid_template_columns": null,
            "flex": null,
            "_model_name": "LayoutModel",
            "justify_items": null,
            "grid_row": null,
            "max_height": null,
            "align_content": null,
            "visibility": null,
            "align_self": null,
            "height": null,
            "min_height": null,
            "padding": null,
            "grid_auto_rows": null,
            "grid_gap": null,
            "max_width": null,
            "order": null,
            "_view_module_version": "1.2.0",
            "grid_template_areas": null,
            "object_position": null,
            "object_fit": null,
            "grid_auto_columns": null,
            "margin": null,
            "display": null,
            "left": null
          }
        },
        "342178ae5e8444f99db8b1eab7962c49": {
          "model_module": "@jupyter-widgets/controls",
          "model_name": "HBoxModel",
          "state": {
            "_view_name": "HBoxView",
            "_dom_classes": [],
            "_model_name": "HBoxModel",
            "_view_module": "@jupyter-widgets/controls",
            "_model_module_version": "1.5.0",
            "_view_count": null,
            "_view_module_version": "1.5.0",
            "box_style": "",
            "layout": "IPY_MODEL_f5605f0f95d24d61a9955965d764184f",
            "_model_module": "@jupyter-widgets/controls",
            "children": [
              "IPY_MODEL_315a9b325e31468f8ff62004695274d6",
              "IPY_MODEL_c434e10b94234510ad0ad8b44b5282fa"
            ]
          }
        },
        "f5605f0f95d24d61a9955965d764184f": {
          "model_module": "@jupyter-widgets/base",
          "model_name": "LayoutModel",
          "state": {
            "_view_name": "LayoutView",
            "grid_template_rows": null,
            "right": null,
            "justify_content": null,
            "_view_module": "@jupyter-widgets/base",
            "overflow": null,
            "_model_module_version": "1.2.0",
            "_view_count": null,
            "flex_flow": null,
            "width": null,
            "min_width": null,
            "border": null,
            "align_items": null,
            "bottom": null,
            "_model_module": "@jupyter-widgets/base",
            "top": null,
            "grid_column": null,
            "overflow_y": null,
            "overflow_x": null,
            "grid_auto_flow": null,
            "grid_area": null,
            "grid_template_columns": null,
            "flex": null,
            "_model_name": "LayoutModel",
            "justify_items": null,
            "grid_row": null,
            "max_height": null,
            "align_content": null,
            "visibility": null,
            "align_self": null,
            "height": null,
            "min_height": null,
            "padding": null,
            "grid_auto_rows": null,
            "grid_gap": null,
            "max_width": null,
            "order": null,
            "_view_module_version": "1.2.0",
            "grid_template_areas": null,
            "object_position": null,
            "object_fit": null,
            "grid_auto_columns": null,
            "margin": null,
            "display": null,
            "left": null
          }
        },
        "315a9b325e31468f8ff62004695274d6": {
          "model_module": "@jupyter-widgets/controls",
          "model_name": "FloatProgressModel",
          "state": {
            "_view_name": "ProgressView",
            "style": "IPY_MODEL_91a9ed2d72cf47dbb7df67f756d21861",
            "_dom_classes": [],
            "description": "Downloading: 100%",
            "_model_name": "FloatProgressModel",
            "bar_style": "success",
            "max": 467042463,
            "_view_module": "@jupyter-widgets/controls",
            "_model_module_version": "1.5.0",
            "value": 467042463,
            "_view_count": null,
            "_view_module_version": "1.5.0",
            "orientation": "horizontal",
            "min": 0,
            "description_tooltip": null,
            "_model_module": "@jupyter-widgets/controls",
            "layout": "IPY_MODEL_8992f653707244d9ad9044c6557472d1"
          }
        },
        "c434e10b94234510ad0ad8b44b5282fa": {
          "model_module": "@jupyter-widgets/controls",
          "model_name": "HTMLModel",
          "state": {
            "_view_name": "HTMLView",
            "style": "IPY_MODEL_e61bef45f06b44f1869f5a0fd4e8c307",
            "_dom_classes": [],
            "description": "",
            "_model_name": "HTMLModel",
            "placeholder": "​",
            "_view_module": "@jupyter-widgets/controls",
            "_model_module_version": "1.5.0",
            "value": " 467M/467M [00:12&lt;00:00, 36.8MB/s]",
            "_view_count": null,
            "_view_module_version": "1.5.0",
            "description_tooltip": null,
            "_model_module": "@jupyter-widgets/controls",
            "layout": "IPY_MODEL_00e56e9c91014ed4a27db68b6491e0ee"
          }
        },
        "91a9ed2d72cf47dbb7df67f756d21861": {
          "model_module": "@jupyter-widgets/controls",
          "model_name": "ProgressStyleModel",
          "state": {
            "_view_name": "StyleView",
            "_model_name": "ProgressStyleModel",
            "description_width": "initial",
            "_view_module": "@jupyter-widgets/base",
            "_model_module_version": "1.5.0",
            "_view_count": null,
            "_view_module_version": "1.2.0",
            "bar_color": null,
            "_model_module": "@jupyter-widgets/controls"
          }
        },
        "8992f653707244d9ad9044c6557472d1": {
          "model_module": "@jupyter-widgets/base",
          "model_name": "LayoutModel",
          "state": {
            "_view_name": "LayoutView",
            "grid_template_rows": null,
            "right": null,
            "justify_content": null,
            "_view_module": "@jupyter-widgets/base",
            "overflow": null,
            "_model_module_version": "1.2.0",
            "_view_count": null,
            "flex_flow": null,
            "width": null,
            "min_width": null,
            "border": null,
            "align_items": null,
            "bottom": null,
            "_model_module": "@jupyter-widgets/base",
            "top": null,
            "grid_column": null,
            "overflow_y": null,
            "overflow_x": null,
            "grid_auto_flow": null,
            "grid_area": null,
            "grid_template_columns": null,
            "flex": null,
            "_model_name": "LayoutModel",
            "justify_items": null,
            "grid_row": null,
            "max_height": null,
            "align_content": null,
            "visibility": null,
            "align_self": null,
            "height": null,
            "min_height": null,
            "padding": null,
            "grid_auto_rows": null,
            "grid_gap": null,
            "max_width": null,
            "order": null,
            "_view_module_version": "1.2.0",
            "grid_template_areas": null,
            "object_position": null,
            "object_fit": null,
            "grid_auto_columns": null,
            "margin": null,
            "display": null,
            "left": null
          }
        },
        "e61bef45f06b44f1869f5a0fd4e8c307": {
          "model_module": "@jupyter-widgets/controls",
          "model_name": "DescriptionStyleModel",
          "state": {
            "_view_name": "StyleView",
            "_model_name": "DescriptionStyleModel",
            "description_width": "",
            "_view_module": "@jupyter-widgets/base",
            "_model_module_version": "1.5.0",
            "_view_count": null,
            "_view_module_version": "1.2.0",
            "_model_module": "@jupyter-widgets/controls"
          }
        },
        "00e56e9c91014ed4a27db68b6491e0ee": {
          "model_module": "@jupyter-widgets/base",
          "model_name": "LayoutModel",
          "state": {
            "_view_name": "LayoutView",
            "grid_template_rows": null,
            "right": null,
            "justify_content": null,
            "_view_module": "@jupyter-widgets/base",
            "overflow": null,
            "_model_module_version": "1.2.0",
            "_view_count": null,
            "flex_flow": null,
            "width": null,
            "min_width": null,
            "border": null,
            "align_items": null,
            "bottom": null,
            "_model_module": "@jupyter-widgets/base",
            "top": null,
            "grid_column": null,
            "overflow_y": null,
            "overflow_x": null,
            "grid_auto_flow": null,
            "grid_area": null,
            "grid_template_columns": null,
            "flex": null,
            "_model_name": "LayoutModel",
            "justify_items": null,
            "grid_row": null,
            "max_height": null,
            "align_content": null,
            "visibility": null,
            "align_self": null,
            "height": null,
            "min_height": null,
            "padding": null,
            "grid_auto_rows": null,
            "grid_gap": null,
            "max_width": null,
            "order": null,
            "_view_module_version": "1.2.0",
            "grid_template_areas": null,
            "object_position": null,
            "object_fit": null,
            "grid_auto_columns": null,
            "margin": null,
            "display": null,
            "left": null
          }
        }
      }
    },
    "accelerator": "GPU"
  },
  "cells": [
    {
      "cell_type": "markdown",
      "metadata": {
        "id": "view-in-github",
        "colab_type": "text"
      },
      "source": [
        "<a href=\"https://colab.research.google.com/github/Mano2610/CE888/blob/main/Assignment2/Offensive.ipynb\" target=\"_parent\"><img src=\"https://colab.research.google.com/assets/colab-badge.svg\" alt=\"Open In Colab\"/></a>"
      ]
    },
    {
      "cell_type": "markdown",
      "metadata": {
        "id": "a_fz5t_NNW3w"
      },
      "source": [
        "# Libraries"
      ]
    },
    {
      "cell_type": "code",
      "metadata": {
        "id": "u3k369B7zzB_"
      },
      "source": [
        "!pip install pytorch-transformers\n",
        "!pip install transformers"
      ],
      "execution_count": null,
      "outputs": []
    },
    {
      "cell_type": "code",
      "metadata": {
        "colab": {
          "base_uri": "https://localhost:8080/"
        },
        "id": "fHxvB3ehF8KX",
        "outputId": "cfe4c9e4-17e7-4afb-f14c-4f0ccb14bd8d"
      },
      "source": [
        "import pandas as pd\n",
        "import numpy as np\n",
        "import re\n",
        "import urllib\n",
        "import csv\n",
        "import requests\n",
        "import matplotlib.pyplot as plt\n",
        "import string\n",
        "import nltk\n",
        "nltk.download('stopwords')\n",
        "from nltk.corpus import stopwords\n",
        "\n",
        "from pytorch_transformers import AdamW\n",
        "from keras.preprocessing.sequence import pad_sequences\n",
        "import torch\n",
        "from torch.utils.data import TensorDataset,DataLoader,RandomSampler,SequentialSampler\n",
        "from pytorch_transformers import XLNetTokenizer,XLNetForSequenceClassification\n",
        "from imblearn.under_sampling import RandomUnderSampler\n",
        "from collections import Counter\n",
        "from transformers import XLNetForSequenceClassification\n",
        "import torch.nn as nn"
      ],
      "execution_count": 3,
      "outputs": [
        {
          "output_type": "stream",
          "text": [
            "[nltk_data] Downloading package stopwords to /root/nltk_data...\n",
            "[nltk_data]   Unzipping corpora/stopwords.zip.\n"
          ],
          "name": "stdout"
        },
        {
          "output_type": "stream",
          "text": [
            "/usr/local/lib/python3.7/dist-packages/sklearn/externals/six.py:31: FutureWarning: The module is deprecated in version 0.21 and will be removed in version 0.23 since we've dropped support for Python 2.7. Please rely on the official version of six (https://pypi.org/project/six/).\n",
            "  \"(https://pypi.org/project/six/).\", FutureWarning)\n",
            "/usr/local/lib/python3.7/dist-packages/sklearn/utils/deprecation.py:144: FutureWarning: The sklearn.neighbors.base module is  deprecated in version 0.22 and will be removed in version 0.24. The corresponding classes / functions should instead be imported from sklearn.neighbors. Anything that cannot be imported from sklearn.neighbors is now part of the private API.\n",
            "  warnings.warn(message, FutureWarning)\n"
          ],
          "name": "stderr"
        }
      ]
    },
    {
      "cell_type": "markdown",
      "metadata": {
        "id": "tenMihOTI4C7"
      },
      "source": [
        "# OFFENSIVE DATASET:"
      ]
    },
    {
      "cell_type": "code",
      "metadata": {
        "colab": {
          "base_uri": "https://localhost:8080/"
        },
        "id": "7hmSfgNqGO0Q",
        "outputId": "7f32cbad-27b9-4f54-dc3d-ac8274724573"
      },
      "source": [
        "mapping_link = f\"https://raw.githubusercontent.com/cardiffnlp/tweeteval/main/datasets/offensive/mapping.txt\"\n",
        "with urllib.request.urlopen(mapping_link) as f:\n",
        "    html = f.read().decode('utf-8').split(\"\\n\")\n",
        "    csvreader = csv.reader(html, delimiter='\\t')\n",
        "labels = [row[1] for row in csvreader if len(row) > 1]\n",
        "labels"
      ],
      "execution_count": 4,
      "outputs": [
        {
          "output_type": "execute_result",
          "data": {
            "text/plain": [
              "['not-offensive', 'offensive']"
            ]
          },
          "metadata": {
            "tags": []
          },
          "execution_count": 4
        }
      ]
    },
    {
      "cell_type": "markdown",
      "metadata": {
        "id": "kZtXQtZWx4xE"
      },
      "source": [
        "# Reading and Writing the data's in a variable:"
      ]
    },
    {
      "cell_type": "markdown",
      "metadata": {
        "id": "7TC5THb0yFyv"
      },
      "source": [
        "### Train Data:"
      ]
    },
    {
      "cell_type": "code",
      "metadata": {
        "id": "rO9fPcassBUt"
      },
      "source": [
        "train_text_url=\"https://raw.githubusercontent.com/cardiffnlp/tweeteval/main/datasets/offensive/train_text.txt\"\n",
        "train_label_url=\"https://raw.githubusercontent.com/cardiffnlp/tweeteval/main/datasets/offensive/train_labels.txt\"\n",
        "\n",
        "r = requests.get(train_text_url, allow_redirects=True)\n",
        "open('train_text.txt', 'wb').write(r.content)\n",
        "\n",
        "r1 = requests.get(train_label_url, allow_redirects=True)\n",
        "open('train_labels.txt', 'wb').write(r1.content)\n",
        "\n",
        "train_var=open(\"train_text.txt\")\n",
        "train_text_tweets=train_var.readlines()\n",
        "train_var.close()\n",
        "\n",
        "train_var1=open(\"train_labels.txt\")\n",
        "train_label_tweets=train_var1.readlines()\n",
        "train_var1.close()\n"
      ],
      "execution_count": 5,
      "outputs": []
    },
    {
      "cell_type": "markdown",
      "metadata": {
        "id": "io4-Z9uOyL4a"
      },
      "source": [
        "### Validation Data:"
      ]
    },
    {
      "cell_type": "code",
      "metadata": {
        "id": "fRadBeTPsuQY"
      },
      "source": [
        "val_text_url=\"https://raw.githubusercontent.com/cardiffnlp/tweeteval/main/datasets/offensive/val_text.txt\"\n",
        "val_label_url=\"https://raw.githubusercontent.com/cardiffnlp/tweeteval/main/datasets/offensive/val_labels.txt\"\n",
        "\n",
        "r2 = requests.get(val_text_url, allow_redirects=True)\n",
        "open('val_text.txt', 'wb').write(r2.content)\n",
        "\n",
        "r3 = requests.get(val_label_url, allow_redirects=True)\n",
        "open('val_labels.txt', 'wb').write(r3.content)\n",
        "\n",
        "val_var=open(\"val_text.txt\")\n",
        "val_text_tweets=val_var.readlines()\n",
        "val_var.close()\n",
        "\n",
        "val_var1=open(\"val_labels.txt\")\n",
        "val_label_tweets=val_var1.readlines()\n",
        "val_var1.close()\n"
      ],
      "execution_count": 6,
      "outputs": []
    },
    {
      "cell_type": "markdown",
      "metadata": {
        "id": "ZiiGGpPLyWDs"
      },
      "source": [
        "### Test Data:"
      ]
    },
    {
      "cell_type": "code",
      "metadata": {
        "id": "_9Yc6gCks7PR"
      },
      "source": [
        "test_text_url=\"https://raw.githubusercontent.com/cardiffnlp/tweeteval/main/datasets/offensive/test_text.txt\"\n",
        "test_label_url=\"https://raw.githubusercontent.com/cardiffnlp/tweeteval/main/datasets/offensive/test_labels.txt\"\n",
        "\n",
        "r4 = requests.get(test_text_url, allow_redirects=True)\n",
        "open('test_text.txt', 'wb').write(r4.content)\n",
        "\n",
        "r5 = requests.get(test_label_url, allow_redirects=True)\n",
        "open('test_labels.txt', 'wb').write(r5.content)\n",
        "\n",
        "test_var=open(\"test_text.txt\")\n",
        "test_text_tweets=test_var.readlines()\n",
        "test_var.close()\n",
        "\n",
        "test_var1=open(\"test_labels.txt\")\n",
        "test_label_tweets=test_var1.readlines()\n",
        "test_var1.close()"
      ],
      "execution_count": 7,
      "outputs": []
    },
    {
      "cell_type": "markdown",
      "metadata": {
        "id": "YAx6-j2tynNx"
      },
      "source": [
        "# Pre Processing the Data:"
      ]
    },
    {
      "cell_type": "code",
      "metadata": {
        "id": "eNT5aH_EGbns"
      },
      "source": [
        "def preprocess(tweets):\n",
        "    for i in range(len(tweets)):\n",
        "      if tweets[i].find('@user')!=-1:\n",
        "        tweets[i]=re.sub('@user', '', tweets[i])\n",
        "      if tweets[i].find('\\n')!=-1:\n",
        "        tweets[i]=re.sub('\\n', '', tweets[i])\n",
        "      tweets[i] = re.sub(r\"@[A-Za-z0-9]+\", ' ', tweets[i])\n",
        "      tweets[i] = re.sub(r\"https?://[A-Za-z0-9./]+\", ' ', tweets[i])\n",
        "      tweets[i] = re.sub(r\"[^a-zA-z.!?'0-9]\", ' ', tweets[i])\n",
        "      tweets[i] = re.sub('\\t', ' ',  tweets[i])\n",
        "      tweets[i] = re.sub(r\" +\", ' ', tweets[i])\n",
        " "
      ],
      "execution_count": 8,
      "outputs": []
    },
    {
      "cell_type": "code",
      "metadata": {
        "id": "X_VHpyjvG1Kr"
      },
      "source": [
        "#preprocessing all the data\n",
        "\n",
        "preprocess(train_text_tweets)\n",
        "preprocess(train_label_tweets)\n",
        "preprocess(val_text_tweets)\n",
        "preprocess(val_label_tweets)\n",
        "preprocess(test_text_tweets)\n",
        "preprocess(test_label_tweets)"
      ],
      "execution_count": 9,
      "outputs": []
    },
    {
      "cell_type": "markdown",
      "metadata": {
        "id": "hAmHSCmX3pYb"
      },
      "source": [
        "# Creating DataFrame :"
      ]
    },
    {
      "cell_type": "code",
      "metadata": {
        "id": "jhfG3smEuWaS"
      },
      "source": [
        "#training dataframe\n",
        "train_row=[]\n",
        "train_Indices=[]\n",
        "for i in range(len(train_text_tweets)):\n",
        "  train_row.append({\"TWEET\":train_text_tweets[i], \"LABEL\":train_label_tweets[i]})\n",
        "  train_Indices.append(i+1)\n",
        "train_df=pd.DataFrame(train_row, index=train_Indices)\n",
        "\n",
        "#validation dataframe\n",
        "val_row=[]\n",
        "val_Indices=[]\n",
        "for i in range(len(val_text_tweets)):\n",
        "  val_row.append({\"TWEET\":val_text_tweets[i], \"LABEL\":val_label_tweets[i]})\n",
        "  val_Indices.append(i+1)\n",
        "val_df=pd.DataFrame(val_row, index=val_Indices)\n",
        "\n",
        "#test dataframe\n",
        "test_row=[]\n",
        "test_Indices=[]\n",
        "for i in range(len(test_text_tweets)):\n",
        "  test_row.append({\"TWEET\":test_text_tweets[i], \"LABEL\":test_label_tweets[i]})\n",
        "  test_Indices.append(i+1)\n",
        "test_df=pd.DataFrame(test_row, index=test_Indices)\n",
        "  "
      ],
      "execution_count": 10,
      "outputs": []
    },
    {
      "cell_type": "markdown",
      "metadata": {
        "id": "TEkQbFMaIOgm"
      },
      "source": [
        "# Filtering and Processing the Data:"
      ]
    },
    {
      "cell_type": "code",
      "metadata": {
        "id": "MUJ-gQQVQQMY"
      },
      "source": [
        "def tweet_filter(df):\n",
        "  stop = stopwords.words('english')\n",
        "  df['TWEET'].unique()\n",
        "  df['TWEET']=df['TWEET'].apply(lambda x: x.lower())\n",
        "  df['TWEET']=df['TWEET'].apply(lambda x: re.sub('\\w*\\d\\w*','', x))\n",
        "  df['TWEET']=df['TWEET'].apply(lambda x: re.sub('[%s]' % re.escape(string.punctuation), '', x))\n",
        "  df['TWEET']=df['TWEET'].apply(lambda x: re.sub(' +',' ',x))\n",
        "  df['TWEET'] =df['TWEET'].apply(lambda x: ' '.join([item for item in x.split() if item not in stop]))\n",
        "  return df\n"
      ],
      "execution_count": 11,
      "outputs": []
    },
    {
      "cell_type": "code",
      "metadata": {
        "id": "ZRcEeaEj0QZG"
      },
      "source": [
        "train_df = tweet_filter(train_df)\n",
        "val_df = tweet_filter(val_df)\n",
        "test_df = tweet_filter(test_df)"
      ],
      "execution_count": 12,
      "outputs": []
    },
    {
      "cell_type": "markdown",
      "metadata": {
        "id": "2dEGCTat4LVf"
      },
      "source": [
        "# Analyzing and Visualizing the Labels:"
      ]
    },
    {
      "cell_type": "code",
      "metadata": {
        "colab": {
          "base_uri": "https://localhost:8080/",
          "height": 336
        },
        "id": "E-pdDDScW6-y",
        "outputId": "0c640f74-77d6-4039-b824-24d4bbb8faa3"
      },
      "source": [
        "#train data:\n",
        "\n",
        "data=train_df.LABEL.value_counts(sort=0)\n",
        "plt.figure(figsize=(1.5,1.5), dpi=227)\n",
        "plt.pie(data, labels=labels, textprops={'fontsize':6}, startangle=0, autopct='%1.1f%%')\n",
        "plt.show"
      ],
      "execution_count": 13,
      "outputs": [
        {
          "output_type": "execute_result",
          "data": {
            "text/plain": [
              "<function matplotlib.pyplot.show>"
            ]
          },
          "metadata": {
            "tags": []
          },
          "execution_count": 13
        },
        {
          "output_type": "display_data",
          "data": {
            "image/png": "[encoded data removed]",
            "text/plain": [
              "<Figure size 340.5x340.5 with 1 Axes>"
            ]
          },
          "metadata": {
            "tags": []
          }
        }
      ]
    },
    {
      "cell_type": "code",
      "metadata": {
        "colab": {
          "base_uri": "https://localhost:8080/",
          "height": 336
        },
        "id": "IYOfFAKkW6-y",
        "outputId": "d366b02a-bbfc-4746-9695-6cfd63f8dc01"
      },
      "source": [
        "#val data:\n",
        "\n",
        "data=val_df.LABEL.value_counts(sort=0)\n",
        "plt.figure(figsize=(1.5,1.5), dpi=227)\n",
        "plt.pie(data, labels=labels, textprops={'fontsize':6}, startangle=0, autopct='%1.1f%%')\n",
        "plt.show"
      ],
      "execution_count": 14,
      "outputs": [
        {
          "output_type": "execute_result",
          "data": {
            "text/plain": [
              "<function matplotlib.pyplot.show>"
            ]
          },
          "metadata": {
            "tags": []
          },
          "execution_count": 14
        },
        {
          "output_type": "display_data",
          "data": {
            "image/png": "[encoded data removed]",
            "text/plain": [
              "<Figure size 340.5x340.5 with 1 Axes>"
            ]
          },
          "metadata": {
            "tags": []
          }
        }
      ]
    },
    {
      "cell_type": "code",
      "metadata": {
        "colab": {
          "base_uri": "https://localhost:8080/",
          "height": 336
        },
        "id": "NwiwBIBiW6-y",
        "outputId": "19ec4841-b4d4-413c-fb6d-70eca798a5e9"
      },
      "source": [
        "#test data:\n",
        "\n",
        "data=test_df.LABEL.value_counts(sort=0)\n",
        "plt.figure(figsize=(1.5,1.5), dpi=227)\n",
        "plt.pie(data, labels=labels, textprops={'fontsize':6}, startangle=0, autopct='%1.1f%%')\n",
        "plt.show"
      ],
      "execution_count": 15,
      "outputs": [
        {
          "output_type": "execute_result",
          "data": {
            "text/plain": [
              "<function matplotlib.pyplot.show>"
            ]
          },
          "metadata": {
            "tags": []
          },
          "execution_count": 15
        },
        {
          "output_type": "display_data",
          "data": {
            "image/png": "[encoded data removed]",
            "text/plain": [
              "<Figure size 340.5x340.5 with 1 Axes>"
            ]
          },
          "metadata": {
            "tags": []
          }
        }
      ]
    },
    {
      "cell_type": "code",
      "metadata": {
        "colab": {
          "base_uri": "https://localhost:8080/",
          "height": 136
        },
        "id": "gu6cDRW7W6-y",
        "outputId": "0f13b164-d7da-4358-f290-ba34a3d7415f"
      },
      "source": [
        "df_grouped=train_df[['LABEL','TWEET']].groupby(by='LABEL').agg(lambda x:' '.join(x))\n",
        "df_grouped"
      ],
      "execution_count": 16,
      "outputs": [
        {
          "output_type": "execute_result",
          "data": {
            "text/html": [
              "<div>\n",
              "<style scoped>\n",
              "    .dataframe tbody tr th:only-of-type {\n",
              "        vertical-align: middle;\n",
              "    }\n",
              "\n",
              "    .dataframe tbody tr th {\n",
              "        vertical-align: top;\n",
              "    }\n",
              "\n",
              "    .dataframe thead th {\n",
              "        text-align: right;\n",
              "    }\n",
              "</style>\n",
              "<table border=\"1\" class=\"dataframe\">\n",
              "  <thead>\n",
              "    <tr style=\"text-align: right;\">\n",
              "      <th></th>\n",
              "      <th>TWEET</th>\n",
              "    </tr>\n",
              "    <tr>\n",
              "      <th>LABEL</th>\n",
              "      <th></th>\n",
              "    </tr>\n",
              "  </thead>\n",
              "  <tbody>\n",
              "    <tr>\n",
              "      <th>0</th>\n",
              "      <td>bono cares soon people understand gain nothing...</td>\n",
              "    </tr>\n",
              "    <tr>\n",
              "      <th>1</th>\n",
              "      <td>eight years republicans denied obama picks bre...</td>\n",
              "    </tr>\n",
              "  </tbody>\n",
              "</table>\n",
              "</div>"
            ],
            "text/plain": [
              "                                                   TWEET\n",
              "LABEL                                                   \n",
              "0      bono cares soon people understand gain nothing...\n",
              "1      eight years republicans denied obama picks bre..."
            ]
          },
          "metadata": {
            "tags": []
          },
          "execution_count": 16
        }
      ]
    },
    {
      "cell_type": "code",
      "metadata": {
        "id": "EDvJBBo8W6-y"
      },
      "source": [
        "from sklearn.feature_extraction.text import CountVectorizer\n",
        "cv=CountVectorizer(analyzer='word')\n",
        "data=cv.fit_transform(df_grouped['TWEET'])\n",
        "df_dtm = pd.DataFrame(data.toarray(), columns=cv.get_feature_names())\n",
        "df_dtm.index=df_grouped.index"
      ],
      "execution_count": 17,
      "outputs": []
    },
    {
      "cell_type": "code",
      "metadata": {
        "colab": {
          "base_uri": "https://localhost:8080/",
          "height": 631
        },
        "id": "N1shJljmW6-z",
        "outputId": "5da9b73d-7933-456c-cbd2-3bba13f87bca"
      },
      "source": [
        "from wordcloud import WordCloud\n",
        "from textwrap import wrap\n",
        "\n",
        "# Function for generating word clouds\n",
        "def generate_wordcloud(data,title):\n",
        "  wc = WordCloud(width=400, height=330, max_words=150,colormap=\"Dark2\").generate_from_frequencies(data)\n",
        "  plt.figure(figsize=(6,5))\n",
        "  plt.imshow(wc, interpolation='bilinear')\n",
        "  plt.axis(\"off\")\n",
        "  if title=='0':\n",
        "    tit = \"Not-Offensive\"\n",
        "  if title=='1':\n",
        "    tit = \"Offensive\"\n",
        "  plt.title('\\n'.join(wrap(tit,60)),fontsize=20)\n",
        "  plt.show()\n",
        "  \n",
        "# Transposing document term matrix\n",
        "df_dtm=df_dtm.transpose()\n",
        "\n",
        "# Plotting word cloud for each product\n",
        "for index,product in enumerate(df_dtm.columns):\n",
        "  generate_wordcloud(df_dtm[product].sort_values(ascending=False),product)"
      ],
      "execution_count": 18,
      "outputs": [
        {
          "output_type": "display_data",
          "data": {
            "image/png": "[encoded data removed]",
            "text/plain": [
              "<Figure size 432x360 with 1 Axes>"
            ]
          },
          "metadata": {
            "tags": [],
            "needs_background": "light"
          }
        },
        {
          "output_type": "display_data",
          "data": {
            "image/png": "[encoded data removed]",
            "text/plain": [
              "<Figure size 432x360 with 1 Axes>"
            ]
          },
          "metadata": {
            "tags": [],
            "needs_background": "light"
          }
        }
      ]
    },
    {
      "cell_type": "code",
      "metadata": {
        "colab": {
          "base_uri": "https://localhost:8080/",
          "height": 296
        },
        "id": "Qpl5xcWr8KcU",
        "outputId": "521f396e-6474-4219-ee5f-bfe03293ae9f"
      },
      "source": [
        "import seaborn as sns\n",
        "sns.countplot(x = train_df['LABEL'], data = train_df)"
      ],
      "execution_count": 19,
      "outputs": [
        {
          "output_type": "execute_result",
          "data": {
            "text/plain": [
              "<matplotlib.axes._subplots.AxesSubplot at 0x7f31033cbed0>"
            ]
          },
          "metadata": {
            "tags": []
          },
          "execution_count": 19
        },
        {
          "output_type": "display_data",
          "data": {
            "image/png": "[encoded data removed]",
            "text/plain": [
              "<Figure size 432x288 with 1 Axes>"
            ]
          },
          "metadata": {
            "tags": [],
            "needs_background": "light"
          }
        }
      ]
    },
    {
      "cell_type": "code",
      "metadata": {
        "id": "QNw21Ksi6FJO"
      },
      "source": [
        "#rounding off the data set based on the batch size \n",
        "train_df = train_df[:11902]\n",
        "val_df = val_df[:1292]"
      ],
      "execution_count": 20,
      "outputs": []
    },
    {
      "cell_type": "code",
      "metadata": {
        "colab": {
          "base_uri": "https://localhost:8080/"
        },
        "id": "edQ6qxMC_bU2",
        "outputId": "fb65702c-cd83-4396-8488-f7fe90d2260b"
      },
      "source": [
        "train_df.LABEL.value_counts()"
      ],
      "execution_count": 21,
      "outputs": [
        {
          "output_type": "execute_result",
          "data": {
            "text/plain": [
              "0    7966\n",
              "1    3936\n",
              "Name: LABEL, dtype: int64"
            ]
          },
          "metadata": {
            "tags": []
          },
          "execution_count": 21
        }
      ]
    },
    {
      "cell_type": "markdown",
      "metadata": {
        "id": "kOtL80cdMzig"
      },
      "source": [
        "# Formating the data to add in Model - XLNet"
      ]
    },
    {
      "cell_type": "code",
      "metadata": {
        "id": "eKhjauZoIpDZ"
      },
      "source": [
        "# XLNet need [SEP] [CLS] tags at the end of each sentence\n",
        "\n",
        "def sep_cls(df):\n",
        "  TWEETS  = []\n",
        "  for TWEET in df['TWEET']:\n",
        "    TWEET = TWEET+\"[SEP] [CLS]\"\n",
        "    TWEETS.append(TWEET)\n",
        "  return TWEETS"
      ],
      "execution_count": 22,
      "outputs": []
    },
    {
      "cell_type": "code",
      "metadata": {
        "id": "BzzuRFydvl8Y"
      },
      "source": [
        "train_tweet = sep_cls(train_df)\n",
        "val_tweet = sep_cls(val_df)\n",
        "test_tweet = sep_cls(test_df)"
      ],
      "execution_count": 23,
      "outputs": []
    },
    {
      "cell_type": "code",
      "metadata": {
        "colab": {
          "base_uri": "https://localhost:8080/"
        },
        "id": "1_hz-gye887p",
        "outputId": "4b8e7638-c0e0-4b5e-83fe-fd9949b394dc"
      },
      "source": [
        "len(train_tweet)"
      ],
      "execution_count": 24,
      "outputs": [
        {
          "output_type": "execute_result",
          "data": {
            "text/plain": [
              "11902"
            ]
          },
          "metadata": {
            "tags": []
          },
          "execution_count": 24
        }
      ]
    },
    {
      "cell_type": "code",
      "metadata": {
        "id": "G7OafvyuPuje",
        "colab": {
          "base_uri": "https://localhost:8080/"
        },
        "outputId": "6336ced9-bd42-4882-f3a4-244076d4892c"
      },
      "source": [
        "# XLNet tokenizer is used to convert our text into tokens that correspond to XLNet’s vocabulary\n",
        "\n",
        "tokenizer  = XLNetTokenizer.from_pretrained('xlnet-base-cased',do_lower_case=True)\n",
        "train_tokenized_text = [tokenizer.tokenize(tw) for tw in train_tweet]\n",
        "val_tokenized_text = [tokenizer.tokenize(tw) for tw in val_tweet]\n",
        "test_tokenized_text = [tokenizer.tokenize(tw) for tw in test_tweet]"
      ],
      "execution_count": 25,
      "outputs": [
        {
          "output_type": "stream",
          "text": [
            "100%|██████████| 798011/798011 [00:00<00:00, 27009519.86B/s]\n"
          ],
          "name": "stderr"
        }
      ]
    },
    {
      "cell_type": "code",
      "metadata": {
        "id": "fDj-wGJtP8jU"
      },
      "source": [
        "# converting the tokens into ids\n",
        "\n",
        "train_ids = [tokenizer.convert_tokens_to_ids(x) for x in train_tokenized_text]\n",
        "val_ids = [tokenizer.convert_tokens_to_ids(x) for x in val_tokenized_text]\n",
        "test_ids = [tokenizer.convert_tokens_to_ids(x) for x in test_tokenized_text]"
      ],
      "execution_count": 26,
      "outputs": []
    },
    {
      "cell_type": "code",
      "metadata": {
        "id": "-_FSTlv7QGYj"
      },
      "source": [
        "train_df['LABEL'] = train_df['LABEL'].astype(int)\n",
        "train_label = train_df['LABEL'].values\n",
        "val_df['LABEL'] = val_df['LABEL'].astype(int)\n",
        "val_label = val_df['LABEL'].values\n",
        "test_df['LABEL'] = test_df['LABEL'].astype(int)\n",
        "test_label = test_df['LABEL'].values"
      ],
      "execution_count": 27,
      "outputs": []
    },
    {
      "cell_type": "code",
      "metadata": {
        "id": "xs26EQzdQJUX"
      },
      "source": [
        "# function to find the maximum length  of the ids\n",
        "\n",
        "def max(ids):\n",
        "  max1 = len(ids[0])\n",
        "  for i in ids:\n",
        "    if(len(i)>max1):\n",
        "      max1=len(i)\n",
        "  MAX_LEN = max1\n",
        "  return MAX_LEN"
      ],
      "execution_count": 28,
      "outputs": []
    },
    {
      "cell_type": "code",
      "metadata": {
        "id": "DX1NVH-zxwka"
      },
      "source": [
        "train_max = max(train_ids)\n",
        "val_max = max(val_ids)\n",
        "test_max = max(test_ids)"
      ],
      "execution_count": 29,
      "outputs": []
    },
    {
      "cell_type": "code",
      "metadata": {
        "id": "_uPa2dUmQY3I"
      },
      "source": [
        "# padding our sentences\n",
        "\n",
        "train_ids2 = pad_sequences(train_ids,maxlen=train_max,dtype=\"long\",truncating=\"post\",padding=\"post\")\n",
        "val_ids2 = pad_sequences(val_ids,maxlen=val_max,dtype=\"long\",truncating=\"post\",padding=\"post\")\n",
        "test_ids2 = pad_sequences(test_ids,maxlen=test_max,dtype=\"long\",truncating=\"post\",padding=\"post\")"
      ],
      "execution_count": 30,
      "outputs": []
    },
    {
      "cell_type": "code",
      "metadata": {
        "colab": {
          "base_uri": "https://localhost:8080/"
        },
        "id": "OgULWHrUnkMH",
        "outputId": "76049efd-db45-49ad-fc28-5bc5210bbe17"
      },
      "source": [
        "# balancing the data based on the number of labels - undersampling\n",
        "\n",
        "nm = RandomUnderSampler(random_state=42)\n",
        "x_train, y_train = nm.fit_resample(train_ids2,train_label)\n",
        "x_val, y_val = nm.fit_resample(val_ids2,val_label)"
      ],
      "execution_count": 31,
      "outputs": [
        {
          "output_type": "stream",
          "text": [
            "/usr/local/lib/python3.7/dist-packages/sklearn/utils/deprecation.py:87: FutureWarning: Function safe_indexing is deprecated; safe_indexing is deprecated in version 0.22 and will be removed in version 0.24.\n",
            "  warnings.warn(msg, category=FutureWarning)\n",
            "/usr/local/lib/python3.7/dist-packages/sklearn/utils/deprecation.py:87: FutureWarning: Function safe_indexing is deprecated; safe_indexing is deprecated in version 0.22 and will be removed in version 0.24.\n",
            "  warnings.warn(msg, category=FutureWarning)\n"
          ],
          "name": "stderr"
        }
      ]
    },
    {
      "cell_type": "code",
      "metadata": {
        "colab": {
          "base_uri": "https://localhost:8080/"
        },
        "id": "HFXg5V3pugbe",
        "outputId": "7b9b3e0d-bb8c-43b9-8d6a-7d36865fb581"
      },
      "source": [
        "# balanced dataset\n",
        "\n",
        "print(format(Counter(train_label)))\n",
        "print(format(Counter(y_train)))"
      ],
      "execution_count": 32,
      "outputs": [
        {
          "output_type": "stream",
          "text": [
            "Counter({0: 7966, 1: 3936})\n",
            "Counter({0: 3936, 1: 3936})\n"
          ],
          "name": "stdout"
        }
      ]
    },
    {
      "cell_type": "code",
      "metadata": {
        "id": "PM-AaIoYQ22X"
      },
      "source": [
        "xtrain = x_train\n",
        "ytrain = y_train\n",
        "xval = x_val\n",
        "yval = y_val\n",
        "xtest = test_ids2\n",
        "ytest = test_label"
      ],
      "execution_count": 33,
      "outputs": []
    },
    {
      "cell_type": "code",
      "metadata": {
        "id": "8DMBBV5uQp8r"
      },
      "source": [
        "Xtrain = torch.tensor(xtrain)\n",
        "Ytrain = torch.tensor(ytrain)\n",
        "Xval = torch.tensor(xval)\n",
        "Yval = torch.tensor(yval)\n",
        "Xtest = torch.tensor(xtest)\n",
        "Ytest = torch.tensor(ytest)"
      ],
      "execution_count": 34,
      "outputs": []
    },
    {
      "cell_type": "code",
      "metadata": {
        "id": "LrVFlFTsSC_F"
      },
      "source": [
        "# batch size\n",
        "\n",
        "batch_size = 32"
      ],
      "execution_count": 35,
      "outputs": []
    },
    {
      "cell_type": "code",
      "metadata": {
        "id": "dBBbiPrnSRBU"
      },
      "source": [
        "# finalyzing the dataloader\n",
        "\n",
        "train_data = TensorDataset(Xtrain,Ytrain)\n",
        "val_data = TensorDataset(Xval,Yval)\n",
        "test_data = TensorDataset(Xtest,Ytest)\n",
        "train_loader = DataLoader(train_data,batch_size=batch_size,shuffle=True)\n",
        "val_loader = DataLoader(val_data,batch_size=batch_size,shuffle=True)\n",
        "test_loader = DataLoader(test_data,batch_size=batch_size,shuffle=True)"
      ],
      "execution_count": 36,
      "outputs": []
    },
    {
      "cell_type": "markdown",
      "metadata": {
        "id": "A95LT9rbP8r-"
      },
      "source": [
        "# Model - XLNet"
      ]
    },
    {
      "cell_type": "code",
      "metadata": {
        "colab": {
          "base_uri": "https://localhost:8080/",
          "height": 218,
          "referenced_widgets": [
            "38c17dfef594456eac25fdf719b5bfa6",
            "5d960a06b72b4d1ba37d7ca8fec112df",
            "37745b3c15ba409a947ec9479f2e4c37",
            "975b5927c12a4a9294dab06c30210a29",
            "4bf230c414eb48b2a86c780e997efd6e",
            "9aa9c5e226e64db4bcab5d59e430a2bc",
            "12db37db61594872aae95dedc67163f0",
            "84bce55b3d784e9482f3818ff01e8015",
            "342178ae5e8444f99db8b1eab7962c49",
            "f5605f0f95d24d61a9955965d764184f",
            "315a9b325e31468f8ff62004695274d6",
            "c434e10b94234510ad0ad8b44b5282fa",
            "91a9ed2d72cf47dbb7df67f756d21861",
            "8992f653707244d9ad9044c6557472d1",
            "e61bef45f06b44f1869f5a0fd4e8c307",
            "00e56e9c91014ed4a27db68b6491e0ee"
          ]
        },
        "id": "8ZqV1do8STkh",
        "outputId": "1334a768-6fc9-4dcb-c92f-085ab634ed1c"
      },
      "source": [
        "# initializing the model\n",
        "\n",
        "model = XLNetForSequenceClassification.from_pretrained(\"xlnet-base-cased\",num_labels=2)"
      ],
      "execution_count": 37,
      "outputs": [
        {
          "output_type": "display_data",
          "data": {
            "application/vnd.jupyter.widget-view+json": {
              "model_id": "38c17dfef594456eac25fdf719b5bfa6",
              "version_minor": 0,
              "version_major": 2
            },
            "text/plain": [
              "HBox(children=(FloatProgress(value=0.0, description='Downloading', max=760.0, style=ProgressStyle(description_…"
            ]
          },
          "metadata": {
            "tags": []
          }
        },
        {
          "output_type": "stream",
          "text": [
            "\n"
          ],
          "name": "stdout"
        },
        {
          "output_type": "display_data",
          "data": {
            "application/vnd.jupyter.widget-view+json": {
              "model_id": "342178ae5e8444f99db8b1eab7962c49",
              "version_minor": 0,
              "version_major": 2
            },
            "text/plain": [
              "HBox(children=(FloatProgress(value=0.0, description='Downloading', max=467042463.0, style=ProgressStyle(descri…"
            ]
          },
          "metadata": {
            "tags": []
          }
        },
        {
          "output_type": "stream",
          "text": [
            "\n"
          ],
          "name": "stdout"
        },
        {
          "output_type": "stream",
          "text": [
            "Some weights of the model checkpoint at xlnet-base-cased were not used when initializing XLNetForSequenceClassification: ['lm_loss.weight', 'lm_loss.bias']\n",
            "- This IS expected if you are initializing XLNetForSequenceClassification from the checkpoint of a model trained on another task or with another architecture (e.g. initializing a BertForSequenceClassification model from a BertForPreTraining model).\n",
            "- This IS NOT expected if you are initializing XLNetForSequenceClassification from the checkpoint of a model that you expect to be exactly identical (initializing a BertForSequenceClassification model from a BertForSequenceClassification model).\n",
            "Some weights of XLNetForSequenceClassification were not initialized from the model checkpoint at xlnet-base-cased and are newly initialized: ['sequence_summary.summary.weight', 'sequence_summary.summary.bias', 'logits_proj.weight', 'logits_proj.bias']\n",
            "You should probably TRAIN this model on a down-stream task to be able to use it for predictions and inference.\n"
          ],
          "name": "stderr"
        }
      ]
    },
    {
      "cell_type": "code",
      "metadata": {
        "colab": {
          "base_uri": "https://localhost:8080/"
        },
        "id": "XPw5idn5bUL8",
        "outputId": "5cd72baf-0e3c-47f2-89f3-3bbed40740ad"
      },
      "source": [
        "# check the device for GPU\n",
        "\n",
        "device = torch.device(\"cuda:0\" if torch.cuda.is_available() else \"cpu\")\n",
        "device"
      ],
      "execution_count": 38,
      "outputs": [
        {
          "output_type": "execute_result",
          "data": {
            "text/plain": [
              "device(type='cuda', index=0)"
            ]
          },
          "metadata": {
            "tags": []
          },
          "execution_count": 38
        }
      ]
    },
    {
      "cell_type": "code",
      "metadata": {
        "colab": {
          "base_uri": "https://localhost:8080/"
        },
        "id": "6LWTUS-DSWmv",
        "outputId": "c217722e-aae0-4eff-ce12-6d8f95ec2223"
      },
      "source": [
        "model.to(device)"
      ],
      "execution_count": 39,
      "outputs": [
        {
          "output_type": "execute_result",
          "data": {
            "text/plain": [
              "XLNetForSequenceClassification(\n",
              "  (transformer): XLNetModel(\n",
              "    (word_embedding): Embedding(32000, 768)\n",
              "    (layer): ModuleList(\n",
              "      (0): XLNetLayer(\n",
              "        (rel_attn): XLNetRelativeAttention(\n",
              "          (layer_norm): LayerNorm((768,), eps=1e-12, elementwise_affine=True)\n",
              "          (dropout): Dropout(p=0.1, inplace=False)\n",
              "        )\n",
              "        (ff): XLNetFeedForward(\n",
              "          (layer_norm): LayerNorm((768,), eps=1e-12, elementwise_affine=True)\n",
              "          (layer_1): Linear(in_features=768, out_features=3072, bias=True)\n",
              "          (layer_2): Linear(in_features=3072, out_features=768, bias=True)\n",
              "          (dropout): Dropout(p=0.1, inplace=False)\n",
              "        )\n",
              "        (dropout): Dropout(p=0.1, inplace=False)\n",
              "      )\n",
              "      (1): XLNetLayer(\n",
              "        (rel_attn): XLNetRelativeAttention(\n",
              "          (layer_norm): LayerNorm((768,), eps=1e-12, elementwise_affine=True)\n",
              "          (dropout): Dropout(p=0.1, inplace=False)\n",
              "        )\n",
              "        (ff): XLNetFeedForward(\n",
              "          (layer_norm): LayerNorm((768,), eps=1e-12, elementwise_affine=True)\n",
              "          (layer_1): Linear(in_features=768, out_features=3072, bias=True)\n",
              "          (layer_2): Linear(in_features=3072, out_features=768, bias=True)\n",
              "          (dropout): Dropout(p=0.1, inplace=False)\n",
              "        )\n",
              "        (dropout): Dropout(p=0.1, inplace=False)\n",
              "      )\n",
              "      (2): XLNetLayer(\n",
              "        (rel_attn): XLNetRelativeAttention(\n",
              "          (layer_norm): LayerNorm((768,), eps=1e-12, elementwise_affine=True)\n",
              "          (dropout): Dropout(p=0.1, inplace=False)\n",
              "        )\n",
              "        (ff): XLNetFeedForward(\n",
              "          (layer_norm): LayerNorm((768,), eps=1e-12, elementwise_affine=True)\n",
              "          (layer_1): Linear(in_features=768, out_features=3072, bias=True)\n",
              "          (layer_2): Linear(in_features=3072, out_features=768, bias=True)\n",
              "          (dropout): Dropout(p=0.1, inplace=False)\n",
              "        )\n",
              "        (dropout): Dropout(p=0.1, inplace=False)\n",
              "      )\n",
              "      (3): XLNetLayer(\n",
              "        (rel_attn): XLNetRelativeAttention(\n",
              "          (layer_norm): LayerNorm((768,), eps=1e-12, elementwise_affine=True)\n",
              "          (dropout): Dropout(p=0.1, inplace=False)\n",
              "        )\n",
              "        (ff): XLNetFeedForward(\n",
              "          (layer_norm): LayerNorm((768,), eps=1e-12, elementwise_affine=True)\n",
              "          (layer_1): Linear(in_features=768, out_features=3072, bias=True)\n",
              "          (layer_2): Linear(in_features=3072, out_features=768, bias=True)\n",
              "          (dropout): Dropout(p=0.1, inplace=False)\n",
              "        )\n",
              "        (dropout): Dropout(p=0.1, inplace=False)\n",
              "      )\n",
              "      (4): XLNetLayer(\n",
              "        (rel_attn): XLNetRelativeAttention(\n",
              "          (layer_norm): LayerNorm((768,), eps=1e-12, elementwise_affine=True)\n",
              "          (dropout): Dropout(p=0.1, inplace=False)\n",
              "        )\n",
              "        (ff): XLNetFeedForward(\n",
              "          (layer_norm): LayerNorm((768,), eps=1e-12, elementwise_affine=True)\n",
              "          (layer_1): Linear(in_features=768, out_features=3072, bias=True)\n",
              "          (layer_2): Linear(in_features=3072, out_features=768, bias=True)\n",
              "          (dropout): Dropout(p=0.1, inplace=False)\n",
              "        )\n",
              "        (dropout): Dropout(p=0.1, inplace=False)\n",
              "      )\n",
              "      (5): XLNetLayer(\n",
              "        (rel_attn): XLNetRelativeAttention(\n",
              "          (layer_norm): LayerNorm((768,), eps=1e-12, elementwise_affine=True)\n",
              "          (dropout): Dropout(p=0.1, inplace=False)\n",
              "        )\n",
              "        (ff): XLNetFeedForward(\n",
              "          (layer_norm): LayerNorm((768,), eps=1e-12, elementwise_affine=True)\n",
              "          (layer_1): Linear(in_features=768, out_features=3072, bias=True)\n",
              "          (layer_2): Linear(in_features=3072, out_features=768, bias=True)\n",
              "          (dropout): Dropout(p=0.1, inplace=False)\n",
              "        )\n",
              "        (dropout): Dropout(p=0.1, inplace=False)\n",
              "      )\n",
              "      (6): XLNetLayer(\n",
              "        (rel_attn): XLNetRelativeAttention(\n",
              "          (layer_norm): LayerNorm((768,), eps=1e-12, elementwise_affine=True)\n",
              "          (dropout): Dropout(p=0.1, inplace=False)\n",
              "        )\n",
              "        (ff): XLNetFeedForward(\n",
              "          (layer_norm): LayerNorm((768,), eps=1e-12, elementwise_affine=True)\n",
              "          (layer_1): Linear(in_features=768, out_features=3072, bias=True)\n",
              "          (layer_2): Linear(in_features=3072, out_features=768, bias=True)\n",
              "          (dropout): Dropout(p=0.1, inplace=False)\n",
              "        )\n",
              "        (dropout): Dropout(p=0.1, inplace=False)\n",
              "      )\n",
              "      (7): XLNetLayer(\n",
              "        (rel_attn): XLNetRelativeAttention(\n",
              "          (layer_norm): LayerNorm((768,), eps=1e-12, elementwise_affine=True)\n",
              "          (dropout): Dropout(p=0.1, inplace=False)\n",
              "        )\n",
              "        (ff): XLNetFeedForward(\n",
              "          (layer_norm): LayerNorm((768,), eps=1e-12, elementwise_affine=True)\n",
              "          (layer_1): Linear(in_features=768, out_features=3072, bias=True)\n",
              "          (layer_2): Linear(in_features=3072, out_features=768, bias=True)\n",
              "          (dropout): Dropout(p=0.1, inplace=False)\n",
              "        )\n",
              "        (dropout): Dropout(p=0.1, inplace=False)\n",
              "      )\n",
              "      (8): XLNetLayer(\n",
              "        (rel_attn): XLNetRelativeAttention(\n",
              "          (layer_norm): LayerNorm((768,), eps=1e-12, elementwise_affine=True)\n",
              "          (dropout): Dropout(p=0.1, inplace=False)\n",
              "        )\n",
              "        (ff): XLNetFeedForward(\n",
              "          (layer_norm): LayerNorm((768,), eps=1e-12, elementwise_affine=True)\n",
              "          (layer_1): Linear(in_features=768, out_features=3072, bias=True)\n",
              "          (layer_2): Linear(in_features=3072, out_features=768, bias=True)\n",
              "          (dropout): Dropout(p=0.1, inplace=False)\n",
              "        )\n",
              "        (dropout): Dropout(p=0.1, inplace=False)\n",
              "      )\n",
              "      (9): XLNetLayer(\n",
              "        (rel_attn): XLNetRelativeAttention(\n",
              "          (layer_norm): LayerNorm((768,), eps=1e-12, elementwise_affine=True)\n",
              "          (dropout): Dropout(p=0.1, inplace=False)\n",
              "        )\n",
              "        (ff): XLNetFeedForward(\n",
              "          (layer_norm): LayerNorm((768,), eps=1e-12, elementwise_affine=True)\n",
              "          (layer_1): Linear(in_features=768, out_features=3072, bias=True)\n",
              "          (layer_2): Linear(in_features=3072, out_features=768, bias=True)\n",
              "          (dropout): Dropout(p=0.1, inplace=False)\n",
              "        )\n",
              "        (dropout): Dropout(p=0.1, inplace=False)\n",
              "      )\n",
              "      (10): XLNetLayer(\n",
              "        (rel_attn): XLNetRelativeAttention(\n",
              "          (layer_norm): LayerNorm((768,), eps=1e-12, elementwise_affine=True)\n",
              "          (dropout): Dropout(p=0.1, inplace=False)\n",
              "        )\n",
              "        (ff): XLNetFeedForward(\n",
              "          (layer_norm): LayerNorm((768,), eps=1e-12, elementwise_affine=True)\n",
              "          (layer_1): Linear(in_features=768, out_features=3072, bias=True)\n",
              "          (layer_2): Linear(in_features=3072, out_features=768, bias=True)\n",
              "          (dropout): Dropout(p=0.1, inplace=False)\n",
              "        )\n",
              "        (dropout): Dropout(p=0.1, inplace=False)\n",
              "      )\n",
              "      (11): XLNetLayer(\n",
              "        (rel_attn): XLNetRelativeAttention(\n",
              "          (layer_norm): LayerNorm((768,), eps=1e-12, elementwise_affine=True)\n",
              "          (dropout): Dropout(p=0.1, inplace=False)\n",
              "        )\n",
              "        (ff): XLNetFeedForward(\n",
              "          (layer_norm): LayerNorm((768,), eps=1e-12, elementwise_affine=True)\n",
              "          (layer_1): Linear(in_features=768, out_features=3072, bias=True)\n",
              "          (layer_2): Linear(in_features=3072, out_features=768, bias=True)\n",
              "          (dropout): Dropout(p=0.1, inplace=False)\n",
              "        )\n",
              "        (dropout): Dropout(p=0.1, inplace=False)\n",
              "      )\n",
              "    )\n",
              "    (dropout): Dropout(p=0.1, inplace=False)\n",
              "  )\n",
              "  (sequence_summary): SequenceSummary(\n",
              "    (summary): Linear(in_features=768, out_features=768, bias=True)\n",
              "    (first_dropout): Identity()\n",
              "    (last_dropout): Dropout(p=0.1, inplace=False)\n",
              "  )\n",
              "  (logits_proj): Linear(in_features=768, out_features=2, bias=True)\n",
              ")"
            ]
          },
          "metadata": {
            "tags": []
          },
          "execution_count": 39
        }
      ]
    },
    {
      "cell_type": "code",
      "metadata": {
        "id": "Vg2ac2h0bLPo"
      },
      "source": [
        "# Adam optimizer is used with learniing rate\n",
        "\n",
        "optimizer = AdamW(model.parameters(),lr=2e-5)\n",
        "criterion = nn.CrossEntropyLoss()"
      ],
      "execution_count": 40,
      "outputs": []
    },
    {
      "cell_type": "code",
      "metadata": {
        "id": "5HyQMgkXbiBO"
      },
      "source": [
        "# function to determine the accuracy\n",
        "\n",
        "def flat_accuracy(preds,labels):  # A function to predict Accuracy\n",
        "  correct=0\n",
        "  for i in range(0,len(labels)):\n",
        "    if(preds[i]==labels[i]):\n",
        "      correct+=1\n",
        "  return (correct/len(labels))*100\n"
      ],
      "execution_count": 41,
      "outputs": []
    },
    {
      "cell_type": "markdown",
      "metadata": {
        "id": "8idKlksnQdLW"
      },
      "source": [
        "# Training and Validating the Model"
      ]
    },
    {
      "cell_type": "code",
      "metadata": {
        "id": "JOAKS41tblEe",
        "colab": {
          "base_uri": "https://localhost:8080/"
        },
        "outputId": "c9f66c4a-b64c-4c55-80bc-8a76570e476a"
      },
      "source": [
        "no_train = 0\n",
        "no_val = 0\n",
        "epochs = 10\n",
        "min_valid_loss = np.inf\n",
        "for epoch in range(epochs):\n",
        "  model.train()\n",
        "  loss1 = []\n",
        "  steps = 0\n",
        "  train_loss = []\n",
        "  l = []\n",
        "  l1 = []\n",
        "  val_loss=[]\n",
        "  i=1\n",
        "  for inputs,labels1 in train_loader :\n",
        "    inputs.to(device)\n",
        "    labels1.to(device)\n",
        "    optimizer.zero_grad()\n",
        "    outputs = model(inputs.to(device))\n",
        "    loss = criterion(outputs[0],labels1.to(device)).to(device)\n",
        "    logits = outputs[0]\n",
        "    #ll=outp(loss)\n",
        "    [train_loss.append(p.item()) for p in torch.argmax(outputs[0],1).flatten() ]#our predicted \n",
        "    [l.append(z.item()) for z in labels1]# real labels\n",
        "    loss.backward()\n",
        "    optimizer.step()\n",
        "    train_losss = loss.item() * inputs.size(0)\n",
        "    loss1.append(loss.item())\n",
        "    no_train += inputs.size(0)\n",
        "    steps += 1\n",
        "  \n",
        "  valid_loss = 0.0\n",
        "  \n",
        "  model.eval()\n",
        "  for data, labels2 in val_loader:\n",
        "    data.to(device)\n",
        "    labels2.to(device)\n",
        "    target = model(data.to(device))\n",
        "    logits = target[0]\n",
        "    v_loss = criterion(target[0],labels2.to(device)).to(device)\n",
        "    [val_loss.append(p.item()) for p in torch.argmax(target[0], 1).flatten() ]#our predicted \n",
        "    [l1.append(z.item()) for z in labels2]# real labels\n",
        "    #logits = target[0]\n",
        "    no_val += data.size(0)\n",
        "\n",
        "    valid_loss = loss.item() * data.size(0)\n",
        "\n",
        "  print(f'Epoch {epoch}')\n",
        "  print(\"Current Train Loss is : {} Step is : {} number of Example : {} Train Accuracy : {}\".format(loss.item(),epoch,no_train,flat_accuracy(train_loss,l)))\n",
        "  print(\"Current Val Loss is : {} Step is : {} number of Example : {} Val Accuracy : {}\".format(v_loss.item(),epoch,no_val,flat_accuracy(val_loss,l1)))\n",
        "  torch.save(model.state_dict(), 'offensive_model.pth')"
      ],
      "execution_count": 46,
      "outputs": [
        {
          "output_type": "stream",
          "text": [
            "Epoch 0\n",
            "Current Train Loss is : 0.3347136974334717 Step is : 0 number of Example : 7872 Train Accuracy : 84.8704268292683\n",
            "Current Val Loss is : 0.31762704253196716 Step is : 0 number of Example : 896 Val Accuracy : 77.79017857142857\n",
            "Epoch 1\n",
            "Current Train Loss is : 0.17381402850151062 Step is : 1 number of Example : 15744 Train Accuracy : 88.55436991869918\n",
            "Current Val Loss is : 0.6222765445709229 Step is : 1 number of Example : 1792 Val Accuracy : 75.78125\n",
            "Epoch 2\n",
            "Current Train Loss is : 0.22133803367614746 Step is : 2 number of Example : 23616 Train Accuracy : 92.32723577235772\n",
            "Current Val Loss is : 0.7298622727394104 Step is : 2 number of Example : 2688 Val Accuracy : 75.33482142857143\n",
            "Epoch 3\n",
            "Current Train Loss is : 0.19528450071811676 Step is : 3 number of Example : 31488 Train Accuracy : 94.42327235772358\n",
            "Current Val Loss is : 0.9487606883049011 Step is : 3 number of Example : 3584 Val Accuracy : 73.77232142857143\n",
            "Epoch 4\n",
            "Current Train Loss is : 0.13958364725112915 Step is : 4 number of Example : 39360 Train Accuracy : 95.85873983739837\n",
            "Current Val Loss is : 0.5674806833267212 Step is : 4 number of Example : 4480 Val Accuracy : 75.11160714285714\n",
            "Epoch 5\n",
            "Current Train Loss is : 0.018997784703969955 Step is : 5 number of Example : 47232 Train Accuracy : 97.0655487804878\n",
            "Current Val Loss is : 0.7027775645256042 Step is : 5 number of Example : 5376 Val Accuracy : 74.77678571428571\n",
            "Epoch 6\n",
            "Current Train Loss is : 0.04157845303416252 Step is : 6 number of Example : 55104 Train Accuracy : 97.45934959349594\n",
            "Current Val Loss is : 0.8083081245422363 Step is : 6 number of Example : 6272 Val Accuracy : 75.89285714285714\n",
            "Epoch 7\n",
            "Current Train Loss is : 0.042951520532369614 Step is : 7 number of Example : 62976 Train Accuracy : 97.53556910569105\n",
            "Current Val Loss is : 1.4875644445419312 Step is : 7 number of Example : 7168 Val Accuracy : 75.78125\n",
            "Epoch 8\n",
            "Current Train Loss is : 0.012953365221619606 Step is : 8 number of Example : 70848 Train Accuracy : 98.06910569105692\n",
            "Current Val Loss is : 0.3319590091705322 Step is : 8 number of Example : 8064 Val Accuracy : 75.0\n",
            "Epoch 9\n",
            "Current Train Loss is : 0.011338936164975166 Step is : 9 number of Example : 78720 Train Accuracy : 98.60264227642277\n",
            "Current Val Loss is : 1.1972665786743164 Step is : 9 number of Example : 8960 Val Accuracy : 75.89285714285714\n"
          ],
          "name": "stdout"
        }
      ]
    },
    {
      "cell_type": "code",
      "metadata": {
        "id": "G8Hi5aXOjnfZ",
        "colab": {
          "base_uri": "https://localhost:8080/"
        },
        "outputId": "9a6480d0-18d9-490e-f74f-eb79bf8abb2a"
      },
      "source": [
        "# loading the saved model\n",
        "\n",
        "model.load_state_dict(torch.load('offensive_model.pth'))"
      ],
      "execution_count": 47,
      "outputs": [
        {
          "output_type": "execute_result",
          "data": {
            "text/plain": [
              "<All keys matched successfully>"
            ]
          },
          "metadata": {
            "tags": []
          },
          "execution_count": 47
        }
      ]
    },
    {
      "cell_type": "markdown",
      "metadata": {
        "id": "7dlO-V3gRMXy"
      },
      "source": [
        "# Testing our Model"
      ]
    },
    {
      "cell_type": "code",
      "metadata": {
        "id": "nn74_vRPboG3",
        "colab": {
          "base_uri": "https://localhost:8080/"
        },
        "outputId": "a4d261b1-a765-4b0b-bb99-c2d28e3b2649"
      },
      "source": [
        "# Testing our Model\n",
        "model.eval()\n",
        "acc = []\n",
        "lab = []\n",
        "t = 0\n",
        "for inp,lab1 in test_loader:\n",
        "  inp.to(device)\n",
        "  lab1.to(device)\n",
        "  t+=lab1.size(0)\n",
        "  outp1 = model(inp.to(device))\n",
        "  [acc.append(p1.item()) for p1 in torch.argmax(outp1[0],axis=1).flatten() ]\n",
        "  [lab.append(z1.item()) for z1 in lab1]\n",
        "print(\"Total Examples : {} Test Accuracy {}\".format(t,flat_accuracy(acc,lab)))"
      ],
      "execution_count": 48,
      "outputs": [
        {
          "output_type": "stream",
          "text": [
            "Total Examples : 860 Test Accuracy 77.09302325581395\n"
          ],
          "name": "stdout"
        }
      ]
    },
    {
      "cell_type": "code",
      "metadata": {
        "id": "8-CC3ZBBSAqo"
      },
      "source": [
        ""
      ],
      "execution_count": null,
      "outputs": []
    }
  ]
}